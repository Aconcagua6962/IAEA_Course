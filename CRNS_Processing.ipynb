{
 "cells": [
  {
   "cell_type": "code",
   "execution_count": 50,
   "metadata": {},
   "outputs": [],
   "source": [
    "import pandas as pd \n",
    "import numpy as np \n",
    "import matplotlib.pyplot as plt\n",
    "plt.rcParams['font.size'] = 14"
   ]
  },
  {
   "cell_type": "markdown",
   "metadata": {},
   "source": [
    "# Step 1: Read in the data\n",
    "Depending on the data format this may vary"
   ]
  },
  {
   "cell_type": "code",
   "execution_count": 51,
   "metadata": {},
   "outputs": [],
   "source": [
    "SF = pd.read_csv('Data/SF_HEF.dat', header=1, skiprows=[2, 3], parse_dates=['TIMESTAMP'], dtype=np.float64, na_values=[\"NAN\"],\n",
    "                   index_col='TIMESTAMP')\n",
    "SF = SF.resample('h').sum()\n",
    "\n",
    "meteo = pd.read_csv('Data/Meteo_HEF.dat', header=1, skiprows=[2, 3], parse_dates=['TIMESTAMP'], dtype=np.float64,\n",
    "                    na_values=[\"NAN\"], index_col='TIMESTAMP')\n",
    "meteo = meteo.resample('h').mean()"
   ]
  },
  {
   "cell_type": "code",
   "execution_count": 52,
   "metadata": {},
   "outputs": [
    {
     "data": {
      "text/html": [
       "<div>\n",
       "<style scoped>\n",
       "    .dataframe tbody tr th:only-of-type {\n",
       "        vertical-align: middle;\n",
       "    }\n",
       "\n",
       "    .dataframe tbody tr th {\n",
       "        vertical-align: top;\n",
       "    }\n",
       "\n",
       "    .dataframe thead th {\n",
       "        text-align: right;\n",
       "    }\n",
       "</style>\n",
       "<table border=\"1\" class=\"dataframe\">\n",
       "  <thead>\n",
       "    <tr style=\"text-align: right;\">\n",
       "      <th></th>\n",
       "      <th>RECORD</th>\n",
       "      <th>Batt_Min</th>\n",
       "      <th>PTemp_Avg</th>\n",
       "      <th>Tair_1_Avg</th>\n",
       "      <th>Tair_2_Avg</th>\n",
       "      <th>Hum_1_Avg</th>\n",
       "      <th>Hum_2_Avg</th>\n",
       "      <th>SWin_Avg</th>\n",
       "      <th>SWout_Avg</th>\n",
       "      <th>LWin_Avg</th>\n",
       "      <th>...</th>\n",
       "      <th>LWinCor_Avg</th>\n",
       "      <th>LWoutCor_Avg</th>\n",
       "      <th>Wspeed</th>\n",
       "      <th>Wdir</th>\n",
       "      <th>Wspeed_Max</th>\n",
       "      <th>DT_raw</th>\n",
       "      <th>Q</th>\n",
       "      <th>TCDT</th>\n",
       "      <th>Snow_Depth</th>\n",
       "      <th>Press_Avg</th>\n",
       "    </tr>\n",
       "    <tr>\n",
       "      <th>TIMESTAMP</th>\n",
       "      <th></th>\n",
       "      <th></th>\n",
       "      <th></th>\n",
       "      <th></th>\n",
       "      <th></th>\n",
       "      <th></th>\n",
       "      <th></th>\n",
       "      <th></th>\n",
       "      <th></th>\n",
       "      <th></th>\n",
       "      <th></th>\n",
       "      <th></th>\n",
       "      <th></th>\n",
       "      <th></th>\n",
       "      <th></th>\n",
       "      <th></th>\n",
       "      <th></th>\n",
       "      <th></th>\n",
       "      <th></th>\n",
       "      <th></th>\n",
       "      <th></th>\n",
       "    </tr>\n",
       "  </thead>\n",
       "  <tbody>\n",
       "    <tr>\n",
       "      <th>2021-10-18 11:00:00</th>\n",
       "      <td>1.5</td>\n",
       "      <td>14.592500</td>\n",
       "      <td>6.228750</td>\n",
       "      <td>-0.946500</td>\n",
       "      <td>-0.996000</td>\n",
       "      <td>49.242500</td>\n",
       "      <td>48.795000</td>\n",
       "      <td>662.067250</td>\n",
       "      <td>441.510375</td>\n",
       "      <td>-121.242925</td>\n",
       "      <td>...</td>\n",
       "      <td>214.520875</td>\n",
       "      <td>305.017125</td>\n",
       "      <td>2.609750</td>\n",
       "      <td>231.675000</td>\n",
       "      <td>3.372750</td>\n",
       "      <td>4.707250</td>\n",
       "      <td>231.250000</td>\n",
       "      <td>4.700750</td>\n",
       "      <td>0.149250</td>\n",
       "      <td>709.852925</td>\n",
       "    </tr>\n",
       "    <tr>\n",
       "      <th>2021-10-18 12:00:00</th>\n",
       "      <td>6.5</td>\n",
       "      <td>14.408333</td>\n",
       "      <td>6.910333</td>\n",
       "      <td>-0.478500</td>\n",
       "      <td>-0.416667</td>\n",
       "      <td>52.311667</td>\n",
       "      <td>51.251667</td>\n",
       "      <td>619.548483</td>\n",
       "      <td>405.483050</td>\n",
       "      <td>-121.991600</td>\n",
       "      <td>...</td>\n",
       "      <td>217.117033</td>\n",
       "      <td>305.468867</td>\n",
       "      <td>3.020833</td>\n",
       "      <td>303.133333</td>\n",
       "      <td>3.782500</td>\n",
       "      <td>4.815333</td>\n",
       "      <td>240.166667</td>\n",
       "      <td>4.812167</td>\n",
       "      <td>0.067833</td>\n",
       "      <td>709.833217</td>\n",
       "    </tr>\n",
       "    <tr>\n",
       "      <th>2021-10-18 13:00:00</th>\n",
       "      <td>12.5</td>\n",
       "      <td>13.941667</td>\n",
       "      <td>5.739500</td>\n",
       "      <td>-0.175500</td>\n",
       "      <td>0.018833</td>\n",
       "      <td>52.413333</td>\n",
       "      <td>51.335000</td>\n",
       "      <td>518.618567</td>\n",
       "      <td>326.478750</td>\n",
       "      <td>-121.819283</td>\n",
       "      <td>...</td>\n",
       "      <td>217.566850</td>\n",
       "      <td>302.786600</td>\n",
       "      <td>2.313833</td>\n",
       "      <td>301.033333</td>\n",
       "      <td>3.213000</td>\n",
       "      <td>4.883500</td>\n",
       "      <td>245.833333</td>\n",
       "      <td>4.885167</td>\n",
       "      <td>-0.005167</td>\n",
       "      <td>709.961017</td>\n",
       "    </tr>\n",
       "    <tr>\n",
       "      <th>2021-10-18 14:00:00</th>\n",
       "      <td>18.5</td>\n",
       "      <td>13.656667</td>\n",
       "      <td>4.729000</td>\n",
       "      <td>0.220500</td>\n",
       "      <td>0.295000</td>\n",
       "      <td>50.508333</td>\n",
       "      <td>50.388333</td>\n",
       "      <td>329.591365</td>\n",
       "      <td>187.367197</td>\n",
       "      <td>-113.876267</td>\n",
       "      <td>...</td>\n",
       "      <td>215.327117</td>\n",
       "      <td>297.018800</td>\n",
       "      <td>2.951333</td>\n",
       "      <td>318.133333</td>\n",
       "      <td>4.507833</td>\n",
       "      <td>4.872833</td>\n",
       "      <td>215.333333</td>\n",
       "      <td>4.875500</td>\n",
       "      <td>0.004500</td>\n",
       "      <td>710.278533</td>\n",
       "    </tr>\n",
       "    <tr>\n",
       "      <th>2021-10-18 15:00:00</th>\n",
       "      <td>24.5</td>\n",
       "      <td>13.166667</td>\n",
       "      <td>1.263000</td>\n",
       "      <td>-0.813167</td>\n",
       "      <td>-0.626500</td>\n",
       "      <td>55.605000</td>\n",
       "      <td>55.436667</td>\n",
       "      <td>21.003768</td>\n",
       "      <td>25.082925</td>\n",
       "      <td>-98.843647</td>\n",
       "      <td>...</td>\n",
       "      <td>210.253800</td>\n",
       "      <td>282.858200</td>\n",
       "      <td>1.831833</td>\n",
       "      <td>305.266667</td>\n",
       "      <td>2.623833</td>\n",
       "      <td>4.881333</td>\n",
       "      <td>213.833333</td>\n",
       "      <td>4.876333</td>\n",
       "      <td>0.003667</td>\n",
       "      <td>710.320800</td>\n",
       "    </tr>\n",
       "    <tr>\n",
       "      <th>...</th>\n",
       "      <td>...</td>\n",
       "      <td>...</td>\n",
       "      <td>...</td>\n",
       "      <td>...</td>\n",
       "      <td>...</td>\n",
       "      <td>...</td>\n",
       "      <td>...</td>\n",
       "      <td>...</td>\n",
       "      <td>...</td>\n",
       "      <td>...</td>\n",
       "      <td>...</td>\n",
       "      <td>...</td>\n",
       "      <td>...</td>\n",
       "      <td>...</td>\n",
       "      <td>...</td>\n",
       "      <td>...</td>\n",
       "      <td>...</td>\n",
       "      <td>...</td>\n",
       "      <td>...</td>\n",
       "      <td>...</td>\n",
       "      <td>...</td>\n",
       "    </tr>\n",
       "    <tr>\n",
       "      <th>2024-04-25 05:00:00</th>\n",
       "      <td>30460.5</td>\n",
       "      <td>13.580000</td>\n",
       "      <td>-2.068667</td>\n",
       "      <td>-2.481333</td>\n",
       "      <td>-15.888333</td>\n",
       "      <td>100.000000</td>\n",
       "      <td>99.916667</td>\n",
       "      <td>186.178533</td>\n",
       "      <td>152.751455</td>\n",
       "      <td>-81.606698</td>\n",
       "      <td>...</td>\n",
       "      <td>172.545133</td>\n",
       "      <td>232.264617</td>\n",
       "      <td>2.436167</td>\n",
       "      <td>195.191333</td>\n",
       "      <td>5.810333</td>\n",
       "      <td>0.843667</td>\n",
       "      <td>189.000000</td>\n",
       "      <td>0.819000</td>\n",
       "      <td>4.181000</td>\n",
       "      <td>688.748283</td>\n",
       "    </tr>\n",
       "    <tr>\n",
       "      <th>2024-04-25 06:00:00</th>\n",
       "      <td>30466.5</td>\n",
       "      <td>13.653333</td>\n",
       "      <td>-2.043333</td>\n",
       "      <td>-2.478667</td>\n",
       "      <td>-15.883333</td>\n",
       "      <td>100.000000</td>\n",
       "      <td>99.900000</td>\n",
       "      <td>211.459883</td>\n",
       "      <td>182.676007</td>\n",
       "      <td>-79.427457</td>\n",
       "      <td>...</td>\n",
       "      <td>173.849883</td>\n",
       "      <td>235.291683</td>\n",
       "      <td>4.357500</td>\n",
       "      <td>263.774667</td>\n",
       "      <td>6.479667</td>\n",
       "      <td>0.848167</td>\n",
       "      <td>193.166667</td>\n",
       "      <td>0.823333</td>\n",
       "      <td>4.176667</td>\n",
       "      <td>688.937617</td>\n",
       "    </tr>\n",
       "    <tr>\n",
       "      <th>2024-04-25 07:00:00</th>\n",
       "      <td>30472.5</td>\n",
       "      <td>14.963333</td>\n",
       "      <td>-2.001500</td>\n",
       "      <td>-2.482000</td>\n",
       "      <td>-14.796667</td>\n",
       "      <td>100.000000</td>\n",
       "      <td>100.000000</td>\n",
       "      <td>655.912500</td>\n",
       "      <td>545.196517</td>\n",
       "      <td>-105.869927</td>\n",
       "      <td>...</td>\n",
       "      <td>169.905100</td>\n",
       "      <td>252.390267</td>\n",
       "      <td>4.134500</td>\n",
       "      <td>327.683333</td>\n",
       "      <td>5.836833</td>\n",
       "      <td>0.713000</td>\n",
       "      <td>173.333333</td>\n",
       "      <td>0.693333</td>\n",
       "      <td>4.306667</td>\n",
       "      <td>689.140850</td>\n",
       "    </tr>\n",
       "    <tr>\n",
       "      <th>2024-04-25 08:00:00</th>\n",
       "      <td>30478.5</td>\n",
       "      <td>14.951667</td>\n",
       "      <td>-1.873333</td>\n",
       "      <td>-2.481833</td>\n",
       "      <td>-13.391667</td>\n",
       "      <td>100.000000</td>\n",
       "      <td>99.800000</td>\n",
       "      <td>790.044900</td>\n",
       "      <td>634.287817</td>\n",
       "      <td>-124.659350</td>\n",
       "      <td>...</td>\n",
       "      <td>167.428617</td>\n",
       "      <td>265.882300</td>\n",
       "      <td>2.521833</td>\n",
       "      <td>198.320000</td>\n",
       "      <td>3.345833</td>\n",
       "      <td>0.775500</td>\n",
       "      <td>164.500000</td>\n",
       "      <td>0.757167</td>\n",
       "      <td>4.242833</td>\n",
       "      <td>689.319067</td>\n",
       "    </tr>\n",
       "    <tr>\n",
       "      <th>2024-04-25 09:00:00</th>\n",
       "      <td>30484.5</td>\n",
       "      <td>14.513333</td>\n",
       "      <td>-1.748333</td>\n",
       "      <td>-2.472000</td>\n",
       "      <td>-10.455000</td>\n",
       "      <td>100.000000</td>\n",
       "      <td>96.883333</td>\n",
       "      <td>876.662233</td>\n",
       "      <td>694.539650</td>\n",
       "      <td>-159.728433</td>\n",
       "      <td>...</td>\n",
       "      <td>172.981717</td>\n",
       "      <td>284.856017</td>\n",
       "      <td>0.882000</td>\n",
       "      <td>171.513333</td>\n",
       "      <td>1.739500</td>\n",
       "      <td>0.787500</td>\n",
       "      <td>344.500000</td>\n",
       "      <td>0.772333</td>\n",
       "      <td>4.227667</td>\n",
       "      <td>689.516467</td>\n",
       "    </tr>\n",
       "  </tbody>\n",
       "</table>\n",
       "<p>22079 rows × 22 columns</p>\n",
       "</div>"
      ],
      "text/plain": [
       "                      RECORD   Batt_Min  PTemp_Avg  Tair_1_Avg  Tair_2_Avg  \\\n",
       "TIMESTAMP                                                                    \n",
       "2021-10-18 11:00:00      1.5  14.592500   6.228750   -0.946500   -0.996000   \n",
       "2021-10-18 12:00:00      6.5  14.408333   6.910333   -0.478500   -0.416667   \n",
       "2021-10-18 13:00:00     12.5  13.941667   5.739500   -0.175500    0.018833   \n",
       "2021-10-18 14:00:00     18.5  13.656667   4.729000    0.220500    0.295000   \n",
       "2021-10-18 15:00:00     24.5  13.166667   1.263000   -0.813167   -0.626500   \n",
       "...                      ...        ...        ...         ...         ...   \n",
       "2024-04-25 05:00:00  30460.5  13.580000  -2.068667   -2.481333  -15.888333   \n",
       "2024-04-25 06:00:00  30466.5  13.653333  -2.043333   -2.478667  -15.883333   \n",
       "2024-04-25 07:00:00  30472.5  14.963333  -2.001500   -2.482000  -14.796667   \n",
       "2024-04-25 08:00:00  30478.5  14.951667  -1.873333   -2.481833  -13.391667   \n",
       "2024-04-25 09:00:00  30484.5  14.513333  -1.748333   -2.472000  -10.455000   \n",
       "\n",
       "                      Hum_1_Avg   Hum_2_Avg    SWin_Avg   SWout_Avg  \\\n",
       "TIMESTAMP                                                             \n",
       "2021-10-18 11:00:00   49.242500   48.795000  662.067250  441.510375   \n",
       "2021-10-18 12:00:00   52.311667   51.251667  619.548483  405.483050   \n",
       "2021-10-18 13:00:00   52.413333   51.335000  518.618567  326.478750   \n",
       "2021-10-18 14:00:00   50.508333   50.388333  329.591365  187.367197   \n",
       "2021-10-18 15:00:00   55.605000   55.436667   21.003768   25.082925   \n",
       "...                         ...         ...         ...         ...   \n",
       "2024-04-25 05:00:00  100.000000   99.916667  186.178533  152.751455   \n",
       "2024-04-25 06:00:00  100.000000   99.900000  211.459883  182.676007   \n",
       "2024-04-25 07:00:00  100.000000  100.000000  655.912500  545.196517   \n",
       "2024-04-25 08:00:00  100.000000   99.800000  790.044900  634.287817   \n",
       "2024-04-25 09:00:00  100.000000   96.883333  876.662233  694.539650   \n",
       "\n",
       "                       LWin_Avg  ...  LWinCor_Avg  LWoutCor_Avg    Wspeed  \\\n",
       "TIMESTAMP                        ...                                        \n",
       "2021-10-18 11:00:00 -121.242925  ...   214.520875    305.017125  2.609750   \n",
       "2021-10-18 12:00:00 -121.991600  ...   217.117033    305.468867  3.020833   \n",
       "2021-10-18 13:00:00 -121.819283  ...   217.566850    302.786600  2.313833   \n",
       "2021-10-18 14:00:00 -113.876267  ...   215.327117    297.018800  2.951333   \n",
       "2021-10-18 15:00:00  -98.843647  ...   210.253800    282.858200  1.831833   \n",
       "...                         ...  ...          ...           ...       ...   \n",
       "2024-04-25 05:00:00  -81.606698  ...   172.545133    232.264617  2.436167   \n",
       "2024-04-25 06:00:00  -79.427457  ...   173.849883    235.291683  4.357500   \n",
       "2024-04-25 07:00:00 -105.869927  ...   169.905100    252.390267  4.134500   \n",
       "2024-04-25 08:00:00 -124.659350  ...   167.428617    265.882300  2.521833   \n",
       "2024-04-25 09:00:00 -159.728433  ...   172.981717    284.856017  0.882000   \n",
       "\n",
       "                           Wdir  Wspeed_Max    DT_raw           Q      TCDT  \\\n",
       "TIMESTAMP                                                                     \n",
       "2021-10-18 11:00:00  231.675000    3.372750  4.707250  231.250000  4.700750   \n",
       "2021-10-18 12:00:00  303.133333    3.782500  4.815333  240.166667  4.812167   \n",
       "2021-10-18 13:00:00  301.033333    3.213000  4.883500  245.833333  4.885167   \n",
       "2021-10-18 14:00:00  318.133333    4.507833  4.872833  215.333333  4.875500   \n",
       "2021-10-18 15:00:00  305.266667    2.623833  4.881333  213.833333  4.876333   \n",
       "...                         ...         ...       ...         ...       ...   \n",
       "2024-04-25 05:00:00  195.191333    5.810333  0.843667  189.000000  0.819000   \n",
       "2024-04-25 06:00:00  263.774667    6.479667  0.848167  193.166667  0.823333   \n",
       "2024-04-25 07:00:00  327.683333    5.836833  0.713000  173.333333  0.693333   \n",
       "2024-04-25 08:00:00  198.320000    3.345833  0.775500  164.500000  0.757167   \n",
       "2024-04-25 09:00:00  171.513333    1.739500  0.787500  344.500000  0.772333   \n",
       "\n",
       "                     Snow_Depth   Press_Avg  \n",
       "TIMESTAMP                                    \n",
       "2021-10-18 11:00:00    0.149250  709.852925  \n",
       "2021-10-18 12:00:00    0.067833  709.833217  \n",
       "2021-10-18 13:00:00   -0.005167  709.961017  \n",
       "2021-10-18 14:00:00    0.004500  710.278533  \n",
       "2021-10-18 15:00:00    0.003667  710.320800  \n",
       "...                         ...         ...  \n",
       "2024-04-25 05:00:00    4.181000  688.748283  \n",
       "2024-04-25 06:00:00    4.176667  688.937617  \n",
       "2024-04-25 07:00:00    4.306667  689.140850  \n",
       "2024-04-25 08:00:00    4.242833  689.319067  \n",
       "2024-04-25 09:00:00    4.227667  689.516467  \n",
       "\n",
       "[22079 rows x 22 columns]"
      ]
     },
     "execution_count": 52,
     "metadata": {},
     "output_type": "execute_result"
    }
   ],
   "source": [
    "meteo"
   ]
  },
  {
   "cell_type": "code",
   "execution_count": 53,
   "metadata": {},
   "outputs": [
    {
     "data": {
      "text/html": [
       "<div>\n",
       "<style scoped>\n",
       "    .dataframe tbody tr th:only-of-type {\n",
       "        vertical-align: middle;\n",
       "    }\n",
       "\n",
       "    .dataframe tbody tr th {\n",
       "        vertical-align: top;\n",
       "    }\n",
       "\n",
       "    .dataframe thead th {\n",
       "        text-align: right;\n",
       "    }\n",
       "</style>\n",
       "<table border=\"1\" class=\"dataframe\">\n",
       "  <thead>\n",
       "    <tr style=\"text-align: right;\">\n",
       "      <th></th>\n",
       "      <th>RECORD</th>\n",
       "      <th>counts</th>\n",
       "      <th>elapsed_time</th>\n",
       "      <th>snowfox_counter</th>\n",
       "      <th>snowfox_tec_data(1)</th>\n",
       "      <th>snowfox_tec_data(2)</th>\n",
       "      <th>snowfox_tec_data(3)</th>\n",
       "    </tr>\n",
       "    <tr>\n",
       "      <th>TIMESTAMP</th>\n",
       "      <th></th>\n",
       "      <th></th>\n",
       "      <th></th>\n",
       "      <th></th>\n",
       "      <th></th>\n",
       "      <th></th>\n",
       "      <th></th>\n",
       "    </tr>\n",
       "  </thead>\n",
       "  <tbody>\n",
       "    <tr>\n",
       "      <th>2021-10-18 11:00:00</th>\n",
       "      <td>6.0</td>\n",
       "      <td>3080.0</td>\n",
       "      <td>2219.0</td>\n",
       "      <td>10.0</td>\n",
       "      <td>0.0</td>\n",
       "      <td>31.3</td>\n",
       "      <td>0.0</td>\n",
       "    </tr>\n",
       "    <tr>\n",
       "      <th>2021-10-18 12:00:00</th>\n",
       "      <td>39.0</td>\n",
       "      <td>5000.0</td>\n",
       "      <td>3600.0</td>\n",
       "      <td>45.0</td>\n",
       "      <td>0.0</td>\n",
       "      <td>36.6</td>\n",
       "      <td>0.0</td>\n",
       "    </tr>\n",
       "    <tr>\n",
       "      <th>2021-10-18 13:00:00</th>\n",
       "      <td>75.0</td>\n",
       "      <td>5066.0</td>\n",
       "      <td>3600.0</td>\n",
       "      <td>81.0</td>\n",
       "      <td>0.0</td>\n",
       "      <td>33.4</td>\n",
       "      <td>0.0</td>\n",
       "    </tr>\n",
       "    <tr>\n",
       "      <th>2021-10-18 14:00:00</th>\n",
       "      <td>111.0</td>\n",
       "      <td>4980.0</td>\n",
       "      <td>3600.0</td>\n",
       "      <td>117.0</td>\n",
       "      <td>0.0</td>\n",
       "      <td>31.5</td>\n",
       "      <td>0.0</td>\n",
       "    </tr>\n",
       "    <tr>\n",
       "      <th>2021-10-18 15:00:00</th>\n",
       "      <td>147.0</td>\n",
       "      <td>5015.0</td>\n",
       "      <td>3600.0</td>\n",
       "      <td>153.0</td>\n",
       "      <td>0.0</td>\n",
       "      <td>18.5</td>\n",
       "      <td>0.0</td>\n",
       "    </tr>\n",
       "    <tr>\n",
       "      <th>...</th>\n",
       "      <td>...</td>\n",
       "      <td>...</td>\n",
       "      <td>...</td>\n",
       "      <td>...</td>\n",
       "      <td>...</td>\n",
       "      <td>...</td>\n",
       "      <td>...</td>\n",
       "    </tr>\n",
       "    <tr>\n",
       "      <th>2024-04-25 05:00:00</th>\n",
       "      <td>182763.0</td>\n",
       "      <td>662.0</td>\n",
       "      <td>3600.0</td>\n",
       "      <td>44793.0</td>\n",
       "      <td>0.0</td>\n",
       "      <td>18.6</td>\n",
       "      <td>0.0</td>\n",
       "    </tr>\n",
       "    <tr>\n",
       "      <th>2024-04-25 06:00:00</th>\n",
       "      <td>182799.0</td>\n",
       "      <td>635.0</td>\n",
       "      <td>3600.0</td>\n",
       "      <td>44829.0</td>\n",
       "      <td>0.0</td>\n",
       "      <td>18.6</td>\n",
       "      <td>0.0</td>\n",
       "    </tr>\n",
       "    <tr>\n",
       "      <th>2024-04-25 07:00:00</th>\n",
       "      <td>182835.0</td>\n",
       "      <td>654.0</td>\n",
       "      <td>3600.0</td>\n",
       "      <td>44865.0</td>\n",
       "      <td>0.0</td>\n",
       "      <td>18.6</td>\n",
       "      <td>0.0</td>\n",
       "    </tr>\n",
       "    <tr>\n",
       "      <th>2024-04-25 08:00:00</th>\n",
       "      <td>182871.0</td>\n",
       "      <td>627.0</td>\n",
       "      <td>3600.0</td>\n",
       "      <td>44901.0</td>\n",
       "      <td>0.0</td>\n",
       "      <td>18.6</td>\n",
       "      <td>0.0</td>\n",
       "    </tr>\n",
       "    <tr>\n",
       "      <th>2024-04-25 09:00:00</th>\n",
       "      <td>182907.0</td>\n",
       "      <td>605.0</td>\n",
       "      <td>3600.0</td>\n",
       "      <td>44937.0</td>\n",
       "      <td>0.0</td>\n",
       "      <td>18.6</td>\n",
       "      <td>0.0</td>\n",
       "    </tr>\n",
       "  </tbody>\n",
       "</table>\n",
       "<p>22079 rows × 7 columns</p>\n",
       "</div>"
      ],
      "text/plain": [
       "                       RECORD  counts  elapsed_time  snowfox_counter  \\\n",
       "TIMESTAMP                                                              \n",
       "2021-10-18 11:00:00       6.0  3080.0        2219.0             10.0   \n",
       "2021-10-18 12:00:00      39.0  5000.0        3600.0             45.0   \n",
       "2021-10-18 13:00:00      75.0  5066.0        3600.0             81.0   \n",
       "2021-10-18 14:00:00     111.0  4980.0        3600.0            117.0   \n",
       "2021-10-18 15:00:00     147.0  5015.0        3600.0            153.0   \n",
       "...                       ...     ...           ...              ...   \n",
       "2024-04-25 05:00:00  182763.0   662.0        3600.0          44793.0   \n",
       "2024-04-25 06:00:00  182799.0   635.0        3600.0          44829.0   \n",
       "2024-04-25 07:00:00  182835.0   654.0        3600.0          44865.0   \n",
       "2024-04-25 08:00:00  182871.0   627.0        3600.0          44901.0   \n",
       "2024-04-25 09:00:00  182907.0   605.0        3600.0          44937.0   \n",
       "\n",
       "                     snowfox_tec_data(1)  snowfox_tec_data(2)  \\\n",
       "TIMESTAMP                                                       \n",
       "2021-10-18 11:00:00                  0.0                 31.3   \n",
       "2021-10-18 12:00:00                  0.0                 36.6   \n",
       "2021-10-18 13:00:00                  0.0                 33.4   \n",
       "2021-10-18 14:00:00                  0.0                 31.5   \n",
       "2021-10-18 15:00:00                  0.0                 18.5   \n",
       "...                                  ...                  ...   \n",
       "2024-04-25 05:00:00                  0.0                 18.6   \n",
       "2024-04-25 06:00:00                  0.0                 18.6   \n",
       "2024-04-25 07:00:00                  0.0                 18.6   \n",
       "2024-04-25 08:00:00                  0.0                 18.6   \n",
       "2024-04-25 09:00:00                  0.0                 18.6   \n",
       "\n",
       "                     snowfox_tec_data(3)  \n",
       "TIMESTAMP                                 \n",
       "2021-10-18 11:00:00                  0.0  \n",
       "2021-10-18 12:00:00                  0.0  \n",
       "2021-10-18 13:00:00                  0.0  \n",
       "2021-10-18 14:00:00                  0.0  \n",
       "2021-10-18 15:00:00                  0.0  \n",
       "...                                  ...  \n",
       "2024-04-25 05:00:00                  0.0  \n",
       "2024-04-25 06:00:00                  0.0  \n",
       "2024-04-25 07:00:00                  0.0  \n",
       "2024-04-25 08:00:00                  0.0  \n",
       "2024-04-25 09:00:00                  0.0  \n",
       "\n",
       "[22079 rows x 7 columns]"
      ]
     },
     "execution_count": 53,
     "metadata": {},
     "output_type": "execute_result"
    }
   ],
   "source": [
    "SF"
   ]
  },
  {
   "cell_type": "code",
   "execution_count": 54,
   "metadata": {},
   "outputs": [
    {
     "data": {
      "text/plain": [
       "<Axes: xlabel='TIMESTAMP'>"
      ]
     },
     "execution_count": 54,
     "metadata": {},
     "output_type": "execute_result"
    },
    {
     "data": {
      "image/png": "[encoded data removed]",
      "text/plain": [
       "<Figure size 640x480 with 1 Axes>"
      ]
     },
     "metadata": {},
     "output_type": "display_data"
    }
   ],
   "source": [
    "SF.counts.plot()\n"
   ]
  },
  {
   "cell_type": "markdown",
   "metadata": {},
   "source": [
    "## Clean CRNS counts "
   ]
  },
  {
   "cell_type": "markdown",
   "metadata": {},
   "source": [
    "The CRNS loggs the time passed during each timestep to make sure it recorded the nuetron count for the full period. We can remove the data where the elapsed_time is not 3600."
   ]
  },
  {
   "cell_type": "code",
   "execution_count": 55,
   "metadata": {},
   "outputs": [],
   "source": [
    "N_raw = SF.counts.where(SF.elapsed_time == 3600)"
   ]
  },
  {
   "cell_type": "code",
   "execution_count": 56,
   "metadata": {},
   "outputs": [
    {
     "data": {
      "text/plain": [
       "TIMESTAMP\n",
       "2021-10-18 11:00:00       NaN\n",
       "2021-10-18 12:00:00    5000.0\n",
       "2021-10-18 13:00:00    5066.0\n",
       "2021-10-18 14:00:00    4980.0\n",
       "2021-10-18 15:00:00    5015.0\n",
       "                        ...  \n",
       "2024-04-25 05:00:00     662.0\n",
       "2024-04-25 06:00:00     635.0\n",
       "2024-04-25 07:00:00     654.0\n",
       "2024-04-25 08:00:00     627.0\n",
       "2024-04-25 09:00:00     605.0\n",
       "Freq: h, Name: counts, Length: 22079, dtype: float64"
      ]
     },
     "execution_count": 56,
     "metadata": {},
     "output_type": "execute_result"
    }
   ],
   "source": [
    "N_raw"
   ]
  },
  {
   "cell_type": "markdown",
   "metadata": {},
   "source": [
    "# Step 2: Calculate Correction factors"
   ]
  },
  {
   "cell_type": "markdown",
   "metadata": {},
   "source": [
    "## Pressure Correction \n",
    "$ f_{bar} = exp(\\beta * (P_i - P_{Avg}))$ \\\n",
    "\\\n",
    "For the pressure correction we need a pressure measurement $P$ and the iverse of the mass attenuation length $\\beta$. \n",
    "For a sepcific location use the crnslab calculator to get the attenuation length: https://crnslab.org/util/intensity.php"
   ]
  },
  {
   "cell_type": "markdown",
   "metadata": {},
   "source": [
    "For the Hintereisferner data:\\\n",
    "lat = 46.791\\\n",
    "lon = 10.7485\\\n",
    "P = 703\\\n"
   ]
  },
  {
   "cell_type": "code",
   "execution_count": 87,
   "metadata": {},
   "outputs": [],
   "source": [
    "# Calculate f_bar"
   ]
  },
  {
   "cell_type": "markdown",
   "metadata": {},
   "source": [
    "## Solar Correction "
   ]
  },
  {
   "cell_type": "markdown",
   "metadata": {},
   "source": [
    "The easiest way is to use to tool integrated in crnslab (https://crnslab.org/util/solar.php) which uses the Jungfraujoch neutron sensor to calculate the solar correction. If you use another reference neutron sensor download the data directy from nmdb.com\\\n",
    "\\\n",
    "For HEF file stored in Data: f_sol_HEF.dat"
   ]
  },
  {
   "cell_type": "code",
   "execution_count": 59,
   "metadata": {},
   "outputs": [],
   "source": [
    "# Calculate f_sol"
   ]
  },
  {
   "cell_type": "code",
   "execution_count": 88,
   "metadata": {},
   "outputs": [],
   "source": [
    "# Plot f_bar and f_sol and see how they differ in magnitude"
   ]
  },
  {
   "cell_type": "markdown",
   "metadata": {},
   "source": [
    "## Calculate the corrected neutron count"
   ]
  },
  {
   "cell_type": "code",
   "execution_count": 89,
   "metadata": {},
   "outputs": [],
   "source": [
    "# Calculate corrected neutron count"
   ]
  },
  {
   "cell_type": "code",
   "execution_count": 90,
   "metadata": {},
   "outputs": [],
   "source": [
    "# Plot corrected and raw neutron count"
   ]
  },
  {
   "cell_type": "markdown",
   "metadata": {},
   "source": [
    "# Step 3: Calculate SWE"
   ]
  },
  {
   "cell_type": "markdown",
   "metadata": {},
   "source": [
    "## Necessary variables\n",
    "Before calculating SWE we need to calculate some more variables for the conversion function."
   ]
  },
  {
   "cell_type": "code",
   "execution_count": 63,
   "metadata": {},
   "outputs": [],
   "source": [
    "# Constants for glacier\n",
    "\n",
    "L_max = 114.4\n",
    "L_min = 14.1\n",
    "a1 = 0.313\n",
    "a2 = 0.082\n",
    "a3 = 1.117"
   ]
  },
  {
   "cell_type": "markdown",
   "metadata": {},
   "source": [
    "To calculate N0 (the snow free counting rate) from the data we need to identify a period where the CRNS was snow free.\\\n"
   ]
  },
  {
   "cell_type": "code",
   "execution_count": 91,
   "metadata": {},
   "outputs": [],
   "source": [
    "# Find a period in the data where it was snow free, and take the average to calculate N0"
   ]
  },
  {
   "cell_type": "markdown",
   "metadata": {},
   "source": [
    "## Calculate $L$ \n",
    "Formula in presentation"
   ]
  },
  {
   "cell_type": "code",
   "execution_count": 66,
   "metadata": {},
   "outputs": [],
   "source": [
    "L_inverse = 1 / L_max + ((1 / L_min) - (1 / L_max)) * (1 + np.exp(-(((N_corr / N0) - a1) / a2))) ** (-a3)\n",
    "L = 1 / L_inverse"
   ]
  },
  {
   "cell_type": "markdown",
   "metadata": {},
   "source": [
    "## Calculate SWE"
   ]
  },
  {
   "cell_type": "code",
   "execution_count": 67,
   "metadata": {},
   "outputs": [],
   "source": [
    "# Calculate SWE"
   ]
  },
  {
   "cell_type": "code",
   "execution_count": 92,
   "metadata": {},
   "outputs": [],
   "source": [
    "# Plot SWE play around with different averaging method, daily mean, rolling mean,....\n",
    "# If you want: Plot the daily mean with its daily Standard deviation"
   ]
  },
  {
   "cell_type": "markdown",
   "metadata": {},
   "source": [
    "# What else can we do with this data? "
   ]
  },
  {
   "cell_type": "markdown",
   "metadata": {},
   "source": [
    "## Density \n",
    "If we have a corresponding snow depth measurement to the CRNS data, we can calculate snow density."
   ]
  },
  {
   "cell_type": "code",
   "execution_count": 83,
   "metadata": {},
   "outputs": [
    {
     "name": "stderr",
     "output_type": "stream",
     "text": [
      "/var/folders/v3/tzm1t4j96019hsvkbhl6p0tw0000gp/T/ipykernel_1286/3966577464.py:2: FutureWarning: 'H' is deprecated and will be removed in a future version, please use 'h' instead.\n",
      "  SD_corr = SD_corr.resample('H').mean()\n"
     ]
    }
   ],
   "source": [
    "from clean_SD import SD_corr\n",
    "SD_corr = SD_corr.resample('H').mean()"
   ]
  },
  {
   "cell_type": "code",
   "execution_count": 93,
   "metadata": {},
   "outputs": [],
   "source": [
    "# Calculate snow density "
   ]
  },
  {
   "cell_type": "code",
   "execution_count": 94,
   "metadata": {},
   "outputs": [],
   "source": [
    "# Plot snow density, again play around with averaging techniques"
   ]
  }
 ],
 "metadata": {
  "kernelspec": {
   "display_name": "IAEA_Course",
   "language": "python",
   "name": "python3"
  },
  "language_info": {
   "codemirror_mode": {
    "name": "ipython",
    "version": 3
   },
   "file_extension": ".py",
   "mimetype": "text/x-python",
   "name": "python",
   "nbconvert_exporter": "python",
   "pygments_lexer": "ipython3",
   "version": "3.12.3"
  }
 },
 "nbformat": 4,
 "nbformat_minor": 2
}
